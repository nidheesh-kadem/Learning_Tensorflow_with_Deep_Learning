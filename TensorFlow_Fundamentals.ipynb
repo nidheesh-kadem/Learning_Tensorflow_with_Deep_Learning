{
  "nbformat": 4,
  "nbformat_minor": 0,
  "metadata": {
    "colab": {
      "provenance": [],
      "authorship_tag": "ABX9TyMwZnFzk/9jySm+S66CR8Lf",
      "include_colab_link": true
    },
    "kernelspec": {
      "name": "python3",
      "display_name": "Python 3"
    },
    "language_info": {
      "name": "python"
    }
  },
  "cells": [
    {
      "cell_type": "markdown",
      "metadata": {
        "id": "view-in-github",
        "colab_type": "text"
      },
      "source": [
        "<a href=\"https://colab.research.google.com/github/nidheesh-kadem/Tensorflow_Project/blob/main/TensorFlow_Fundamentals.ipynb\" target=\"_parent\"><img src=\"https://colab.research.google.com/assets/colab-badge.svg\" alt=\"Open In Colab\"/></a>"
      ]
    },
    {
      "cell_type": "code",
      "execution_count": null,
      "metadata": {
        "id": "5073OzcW52Dq",
        "colab": {
          "base_uri": "https://localhost:8080/"
        },
        "outputId": "eb07c653-0cf6-4e80-9192-8b86dcd98215"
      },
      "outputs": [
        {
          "output_type": "stream",
          "name": "stdout",
          "text": [
            "2.17.0\n"
          ]
        }
      ],
      "source": [
        "import tensorflow as tf\n",
        "print(tf.__version__)"
      ]
    },
    {
      "cell_type": "code",
      "source": [
        "scalar = tf.constant(7)\n",
        "scalar"
      ],
      "metadata": {
        "colab": {
          "base_uri": "https://localhost:8080/"
        },
        "id": "v_sgzE3OhDVD",
        "outputId": "763734da-c654-44c0-c5d5-47796a48a3eb"
      },
      "execution_count": null,
      "outputs": [
        {
          "output_type": "execute_result",
          "data": {
            "text/plain": [
              "<tf.Tensor: shape=(), dtype=int32, numpy=7>"
            ]
          },
          "metadata": {},
          "execution_count": 75
        }
      ]
    },
    {
      "cell_type": "code",
      "source": [
        "scalar.ndim"
      ],
      "metadata": {
        "colab": {
          "base_uri": "https://localhost:8080/"
        },
        "id": "nLLd3Ml5x8C6",
        "outputId": "e18e1bff-14ba-4f0e-d2fc-40e6f6a86c95"
      },
      "execution_count": null,
      "outputs": [
        {
          "output_type": "execute_result",
          "data": {
            "text/plain": [
              "0"
            ]
          },
          "metadata": {},
          "execution_count": 76
        }
      ]
    },
    {
      "cell_type": "code",
      "source": [
        "vector = tf.constant([10,10])\n",
        "vector"
      ],
      "metadata": {
        "colab": {
          "base_uri": "https://localhost:8080/"
        },
        "id": "uftNAlWSx-un",
        "outputId": "7948b6bf-6184-4224-f3ef-6cbec72bb7d2"
      },
      "execution_count": null,
      "outputs": [
        {
          "output_type": "execute_result",
          "data": {
            "text/plain": [
              "<tf.Tensor: shape=(2,), dtype=int32, numpy=array([10, 10], dtype=int32)>"
            ]
          },
          "metadata": {},
          "execution_count": 77
        }
      ]
    },
    {
      "cell_type": "code",
      "source": [
        "vector.ndim"
      ],
      "metadata": {
        "colab": {
          "base_uri": "https://localhost:8080/"
        },
        "id": "f0100wICyOhe",
        "outputId": "9aa47ccc-3309-4271-f7de-70accecae121"
      },
      "execution_count": null,
      "outputs": [
        {
          "output_type": "execute_result",
          "data": {
            "text/plain": [
              "1"
            ]
          },
          "metadata": {},
          "execution_count": 78
        }
      ]
    },
    {
      "cell_type": "code",
      "source": [
        "matrix = tf.constant([[10,7],\n",
        "                    [7,10]])\n",
        "matrix"
      ],
      "metadata": {
        "colab": {
          "base_uri": "https://localhost:8080/"
        },
        "id": "mbUl39qWyQ63",
        "outputId": "decec744-44f8-41c1-8714-d1fe878f07c1"
      },
      "execution_count": null,
      "outputs": [
        {
          "output_type": "execute_result",
          "data": {
            "text/plain": [
              "<tf.Tensor: shape=(2, 2), dtype=int32, numpy=\n",
              "array([[10,  7],\n",
              "       [ 7, 10]], dtype=int32)>"
            ]
          },
          "metadata": {},
          "execution_count": 79
        }
      ]
    },
    {
      "cell_type": "code",
      "source": [
        "matrix.ndim"
      ],
      "metadata": {
        "colab": {
          "base_uri": "https://localhost:8080/"
        },
        "id": "AJ2rSzgcyvcm",
        "outputId": "9315e2f4-28e6-47d7-a8a2-340255c3434b"
      },
      "execution_count": null,
      "outputs": [
        {
          "output_type": "execute_result",
          "data": {
            "text/plain": [
              "2"
            ]
          },
          "metadata": {},
          "execution_count": 80
        }
      ]
    },
    {
      "cell_type": "code",
      "source": [
        "another_matrix = tf.constant([[10., 7.],\n",
        "                              [7., 10.],\n",
        "                              [10., .7]], dtype=tf.float16)\n",
        "another_matrix"
      ],
      "metadata": {
        "colab": {
          "base_uri": "https://localhost:8080/"
        },
        "id": "_k4K8bexzZTA",
        "outputId": "86f9ecf7-70f5-45c4-831e-addd5b14e5ea"
      },
      "execution_count": null,
      "outputs": [
        {
          "output_type": "execute_result",
          "data": {
            "text/plain": [
              "<tf.Tensor: shape=(3, 2), dtype=float16, numpy=\n",
              "array([[10. ,  7. ],\n",
              "       [ 7. , 10. ],\n",
              "       [10. ,  0.7]], dtype=float16)>"
            ]
          },
          "metadata": {},
          "execution_count": 81
        }
      ]
    },
    {
      "cell_type": "code",
      "source": [
        "another_matrix.ndim"
      ],
      "metadata": {
        "colab": {
          "base_uri": "https://localhost:8080/"
        },
        "id": "E4nW7VlP0sNu",
        "outputId": "92dd8131-0744-4c34-c692-10278aa33eae"
      },
      "execution_count": null,
      "outputs": [
        {
          "output_type": "execute_result",
          "data": {
            "text/plain": [
              "2"
            ]
          },
          "metadata": {},
          "execution_count": 82
        }
      ]
    },
    {
      "cell_type": "code",
      "source": [
        "tensor = tf.constant([[[10,7],\n",
        "                       [7,10]],\n",
        "                      [[5,10],\n",
        "                       [10,5]],\n",
        "                       [[4,5],\n",
        "                        [5,4]]])\n",
        "tensor"
      ],
      "metadata": {
        "colab": {
          "base_uri": "https://localhost:8080/"
        },
        "id": "U3aaViOB2PvZ",
        "outputId": "957d3acd-a5e6-49f0-99b3-3fea76aca41a"
      },
      "execution_count": null,
      "outputs": [
        {
          "output_type": "execute_result",
          "data": {
            "text/plain": [
              "<tf.Tensor: shape=(3, 2, 2), dtype=int32, numpy=\n",
              "array([[[10,  7],\n",
              "        [ 7, 10]],\n",
              "\n",
              "       [[ 5, 10],\n",
              "        [10,  5]],\n",
              "\n",
              "       [[ 4,  5],\n",
              "        [ 5,  4]]], dtype=int32)>"
            ]
          },
          "metadata": {},
          "execution_count": 83
        }
      ]
    },
    {
      "cell_type": "code",
      "source": [
        "tensor.ndim"
      ],
      "metadata": {
        "colab": {
          "base_uri": "https://localhost:8080/"
        },
        "id": "Ld9_ZtVS35FQ",
        "outputId": "6546372d-60a6-49f6-8a28-8a26d2bf037b"
      },
      "execution_count": null,
      "outputs": [
        {
          "output_type": "execute_result",
          "data": {
            "text/plain": [
              "3"
            ]
          },
          "metadata": {},
          "execution_count": 84
        }
      ]
    },
    {
      "cell_type": "code",
      "source": [
        "changeable_tensor = tf.Variable([10,7])\n",
        "unchangeable_tensor = tf.constant([10,7])\n",
        "changeable_tensor, unchangeable_tensor"
      ],
      "metadata": {
        "colab": {
          "base_uri": "https://localhost:8080/"
        },
        "id": "WQyU9CL07oVG",
        "outputId": "31fa200a-0445-4533-833e-4f1b8d66490a"
      },
      "execution_count": null,
      "outputs": [
        {
          "output_type": "execute_result",
          "data": {
            "text/plain": [
              "(<tf.Variable 'Variable:0' shape=(2,) dtype=int32, numpy=array([10,  7], dtype=int32)>,\n",
              " <tf.Tensor: shape=(2,), dtype=int32, numpy=array([10,  7], dtype=int32)>)"
            ]
          },
          "metadata": {},
          "execution_count": 85
        }
      ]
    },
    {
      "cell_type": "code",
      "source": [
        "random_tensor_1 = tf.random.Generator.from_seed(45)\n",
        "random_tensor_1 = random_tensor_1.uniform([3,3])\n",
        "random_tensor_1"
      ],
      "metadata": {
        "colab": {
          "base_uri": "https://localhost:8080/"
        },
        "id": "Baw0oOA2-sdt",
        "outputId": "7f3dc4f4-45b0-468e-b068-44bad3492362"
      },
      "execution_count": null,
      "outputs": [
        {
          "output_type": "execute_result",
          "data": {
            "text/plain": [
              "<tf.Tensor: shape=(3, 3), dtype=float32, numpy=\n",
              "array([[0.86540747, 0.8862978 , 0.27795732],\n",
              "       [0.8857763 , 0.2179842 , 0.29115117],\n",
              "       [0.03953862, 0.8136791 , 0.8139852 ]], dtype=float32)>"
            ]
          },
          "metadata": {},
          "execution_count": 86
        }
      ]
    },
    {
      "cell_type": "code",
      "source": [
        "random_tensor_2 = tf.random.Generator.from_seed(45)\n",
        "random_tensor_2 = random_tensor_2.normal([3,3])\n",
        "random_tensor_2"
      ],
      "metadata": {
        "colab": {
          "base_uri": "https://localhost:8080/"
        },
        "id": "ORL8Pexn43SH",
        "outputId": "2e690463-2626-468d-e016-f5a0208a26ae"
      },
      "execution_count": null,
      "outputs": [
        {
          "output_type": "execute_result",
          "data": {
            "text/plain": [
              "<tf.Tensor: shape=(3, 3), dtype=float32, numpy=\n",
              "array([[-0.3522796 ,  0.40621263, -1.0523509 ],\n",
              "       [ 1.2054597 ,  1.6874489 , -0.4462975 ],\n",
              "       [-2.3410842 ,  0.99009085, -0.0876323 ]], dtype=float32)>"
            ]
          },
          "metadata": {},
          "execution_count": 87
        }
      ]
    },
    {
      "cell_type": "markdown",
      "source": [
        "### In a uniform distribution all outcomes are equally likely to occur, on a normal distribution all outcomes close to the mean and more likely to occur."
      ],
      "metadata": {
        "id": "LOFEL75IjqHK"
      }
    },
    {
      "cell_type": "code",
      "source": [
        "random_tensor_3 = tf.random.Generator.from_seed(45)\n",
        "random_tensor_3 = random_tensor_3.normal([3,2])\n",
        "random_tensor_3\n",
        "\n",
        "# shuffle random_tensor_3\n",
        "\n",
        "shuffeled_tensor = tf.random.shuffle(random_tensor_3)\n",
        "\n",
        "random_tensor_3, shuffeled_tensor"
      ],
      "metadata": {
        "colab": {
          "base_uri": "https://localhost:8080/"
        },
        "id": "QFPJNyBljHuU",
        "outputId": "74569285-ed28-4164-b4f4-5917e23e93de"
      },
      "execution_count": null,
      "outputs": [
        {
          "output_type": "execute_result",
          "data": {
            "text/plain": [
              "(<tf.Tensor: shape=(3, 2), dtype=float32, numpy=\n",
              " array([[-0.3522796 ,  0.40621263],\n",
              "        [-1.0523509 ,  1.2054597 ],\n",
              "        [ 1.6874489 , -0.4462975 ]], dtype=float32)>,\n",
              " <tf.Tensor: shape=(3, 2), dtype=float32, numpy=\n",
              " array([[ 1.6874489 , -0.4462975 ],\n",
              "        [-0.3522796 ,  0.40621263],\n",
              "        [-1.0523509 ,  1.2054597 ]], dtype=float32)>)"
            ]
          },
          "metadata": {},
          "execution_count": 88
        }
      ]
    },
    {
      "cell_type": "code",
      "source": [
        "random_tensor_4 = tf.random.Generator.from_seed(45)\n",
        "random_tensor_4 = random_tensor_4.normal([3,2])\n",
        "\n",
        "\n",
        "# shuffle random_tensor_4 with seed 40\n",
        "# shuffled tensor with a seed will not changed the order.\n",
        "\n",
        "tf.random.set_seed(40)\n",
        "shuffeled_tensor = tf.random.shuffle(random_tensor_4)\n",
        "\n",
        "random_tensor_4, shuffeled_tensor"
      ],
      "metadata": {
        "colab": {
          "base_uri": "https://localhost:8080/"
        },
        "id": "VIRf4DLJtzUY",
        "outputId": "113d2e05-943e-4f63-d8b2-138a9c348d28"
      },
      "execution_count": null,
      "outputs": [
        {
          "output_type": "execute_result",
          "data": {
            "text/plain": [
              "(<tf.Tensor: shape=(3, 2), dtype=float32, numpy=\n",
              " array([[-0.3522796 ,  0.40621263],\n",
              "        [-1.0523509 ,  1.2054597 ],\n",
              "        [ 1.6874489 , -0.4462975 ]], dtype=float32)>,\n",
              " <tf.Tensor: shape=(3, 2), dtype=float32, numpy=\n",
              " array([[-1.0523509 ,  1.2054597 ],\n",
              "        [-0.3522796 ,  0.40621263],\n",
              "        [ 1.6874489 , -0.4462975 ]], dtype=float32)>)"
            ]
          },
          "metadata": {},
          "execution_count": 89
        }
      ]
    },
    {
      "cell_type": "code",
      "source": [
        "tf.ones([2,2])\n",
        "tf.zeros([2,2])"
      ],
      "metadata": {
        "colab": {
          "base_uri": "https://localhost:8080/"
        },
        "id": "hV-LOz0TUuxW",
        "outputId": "cb16c702-36fb-4e12-c20e-d8f081e8bf7f"
      },
      "execution_count": null,
      "outputs": [
        {
          "output_type": "execute_result",
          "data": {
            "text/plain": [
              "<tf.Tensor: shape=(2, 2), dtype=float32, numpy=\n",
              "array([[0., 0.],\n",
              "       [0., 0.]], dtype=float32)>"
            ]
          },
          "metadata": {},
          "execution_count": 90
        }
      ]
    },
    {
      "cell_type": "markdown",
      "source": [
        "What is the difference between NumPy arrays and TensorFlow tensors? TensorFlow tensors can be run on GPU.  "
      ],
      "metadata": {
        "id": "GMEFRfkYVV9R"
      }
    },
    {
      "cell_type": "markdown",
      "source": [
        "COnvert a numpy array to a tensor"
      ],
      "metadata": {
        "id": "jK5w0rHinj7j"
      }
    },
    {
      "cell_type": "code",
      "source": [
        "import numpy as np\n",
        "numpy_A = np.arange(1, 25, dtype=np.int32)\n",
        "numpy_A"
      ],
      "metadata": {
        "colab": {
          "base_uri": "https://localhost:8080/"
        },
        "id": "Qm2_GV7pVJ_B",
        "outputId": "e3c18ae8-91f5-4029-db6e-9ddc6b1d07b0"
      },
      "execution_count": null,
      "outputs": [
        {
          "output_type": "execute_result",
          "data": {
            "text/plain": [
              "array([ 1,  2,  3,  4,  5,  6,  7,  8,  9, 10, 11, 12, 13, 14, 15, 16, 17,\n",
              "       18, 19, 20, 21, 22, 23, 24], dtype=int32)"
            ]
          },
          "metadata": {},
          "execution_count": 91
        }
      ]
    },
    {
      "cell_type": "code",
      "source": [
        "# we change a NumPy array to a TensorFlow Tensor we want. We can also change the shape of the tensor but it should add up to the total number of elements.\n",
        "\n",
        "numpy_to_constant = tf.constant(numpy_A)\n",
        "numpy_to_variable = tf.Variable(numpy_A)\n",
        "\n",
        "numpy_to_constant, numpy_to_variable"
      ],
      "metadata": {
        "colab": {
          "base_uri": "https://localhost:8080/"
        },
        "id": "2hzr4ktPnmyj",
        "outputId": "ea41c173-0dc5-404d-f2d1-8d9eaebb10db"
      },
      "execution_count": null,
      "outputs": [
        {
          "output_type": "execute_result",
          "data": {
            "text/plain": [
              "(<tf.Tensor: shape=(24,), dtype=int32, numpy=\n",
              " array([ 1,  2,  3,  4,  5,  6,  7,  8,  9, 10, 11, 12, 13, 14, 15, 16, 17,\n",
              "        18, 19, 20, 21, 22, 23, 24], dtype=int32)>,\n",
              " <tf.Variable 'Variable:0' shape=(24,) dtype=int32, numpy=\n",
              " array([ 1,  2,  3,  4,  5,  6,  7,  8,  9, 10, 11, 12, 13, 14, 15, 16, 17,\n",
              "        18, 19, 20, 21, 22, 23, 24], dtype=int32)>)"
            ]
          },
          "metadata": {},
          "execution_count": 92
        }
      ]
    },
    {
      "cell_type": "code",
      "source": [
        "change_shape_numpy_to_constant = tf.constant(numpy_A, shape=(3,8))\n",
        "change_shape_numpy_to_constant_2 = tf.constant(numpy_A, shape=(2, 3, 4))\n",
        "\n",
        "# cannot change shape of variable\n",
        "# change_shape_numpy_to_variable = tf.Variable(numpy_A, shape=(2, 3, 4))\n",
        "\n",
        "change_shape_numpy_to_constant, change_shape_numpy_to_constant_2"
      ],
      "metadata": {
        "colab": {
          "base_uri": "https://localhost:8080/"
        },
        "id": "Ug05F-jq-6Xr",
        "outputId": "39256482-9651-4727-a162-1e846f13bde0"
      },
      "execution_count": null,
      "outputs": [
        {
          "output_type": "execute_result",
          "data": {
            "text/plain": [
              "(<tf.Tensor: shape=(3, 8), dtype=int32, numpy=\n",
              " array([[ 1,  2,  3,  4,  5,  6,  7,  8],\n",
              "        [ 9, 10, 11, 12, 13, 14, 15, 16],\n",
              "        [17, 18, 19, 20, 21, 22, 23, 24]], dtype=int32)>,\n",
              " <tf.Tensor: shape=(2, 3, 4), dtype=int32, numpy=\n",
              " array([[[ 1,  2,  3,  4],\n",
              "         [ 5,  6,  7,  8],\n",
              "         [ 9, 10, 11, 12]],\n",
              " \n",
              "        [[13, 14, 15, 16],\n",
              "         [17, 18, 19, 20],\n",
              "         [21, 22, 23, 24]]], dtype=int32)>)"
            ]
          },
          "metadata": {},
          "execution_count": 93
        }
      ]
    },
    {
      "cell_type": "code",
      "source": [
        "change_shape_numpy_to_constant.ndim\n"
      ],
      "metadata": {
        "colab": {
          "base_uri": "https://localhost:8080/"
        },
        "id": "aoFmcZnQEEmh",
        "outputId": "4988daae-86d3-44c8-fbde-97ab03374040"
      },
      "execution_count": null,
      "outputs": [
        {
          "output_type": "execute_result",
          "data": {
            "text/plain": [
              "2"
            ]
          },
          "metadata": {},
          "execution_count": 94
        }
      ]
    },
    {
      "cell_type": "code",
      "source": [
        "change_shape_numpy_to_constant_2.ndim"
      ],
      "metadata": {
        "colab": {
          "base_uri": "https://localhost:8080/"
        },
        "id": "fmVWQ0D3Kv4h",
        "outputId": "346269eb-68b6-4db7-c49e-9d946345c35d"
      },
      "execution_count": null,
      "outputs": [
        {
          "output_type": "execute_result",
          "data": {
            "text/plain": [
              "3"
            ]
          },
          "metadata": {},
          "execution_count": 95
        }
      ]
    },
    {
      "cell_type": "code",
      "source": [
        "# creating a rank 4 tensor\n",
        "\n",
        "rank_4_tensor = tf.zeros(shape=[2,3,4,5])\n",
        "\n",
        "rank_4_tensor.ndim, rank_4_tensor, rank_4_tensor[0], rank_4_tensor.shape, tf.size(rank_4_tensor)"
      ],
      "metadata": {
        "colab": {
          "base_uri": "https://localhost:8080/"
        },
        "id": "Q0qsRKHMPRwH",
        "outputId": "836045f7-5442-41fa-ca72-2ca0a1b88c9a"
      },
      "execution_count": null,
      "outputs": [
        {
          "output_type": "execute_result",
          "data": {
            "text/plain": [
              "(4,\n",
              " <tf.Tensor: shape=(2, 3, 4, 5), dtype=float32, numpy=\n",
              " array([[[[0., 0., 0., 0., 0.],\n",
              "          [0., 0., 0., 0., 0.],\n",
              "          [0., 0., 0., 0., 0.],\n",
              "          [0., 0., 0., 0., 0.]],\n",
              " \n",
              "         [[0., 0., 0., 0., 0.],\n",
              "          [0., 0., 0., 0., 0.],\n",
              "          [0., 0., 0., 0., 0.],\n",
              "          [0., 0., 0., 0., 0.]],\n",
              " \n",
              "         [[0., 0., 0., 0., 0.],\n",
              "          [0., 0., 0., 0., 0.],\n",
              "          [0., 0., 0., 0., 0.],\n",
              "          [0., 0., 0., 0., 0.]]],\n",
              " \n",
              " \n",
              "        [[[0., 0., 0., 0., 0.],\n",
              "          [0., 0., 0., 0., 0.],\n",
              "          [0., 0., 0., 0., 0.],\n",
              "          [0., 0., 0., 0., 0.]],\n",
              " \n",
              "         [[0., 0., 0., 0., 0.],\n",
              "          [0., 0., 0., 0., 0.],\n",
              "          [0., 0., 0., 0., 0.],\n",
              "          [0., 0., 0., 0., 0.]],\n",
              " \n",
              "         [[0., 0., 0., 0., 0.],\n",
              "          [0., 0., 0., 0., 0.],\n",
              "          [0., 0., 0., 0., 0.],\n",
              "          [0., 0., 0., 0., 0.]]]], dtype=float32)>,\n",
              " <tf.Tensor: shape=(3, 4, 5), dtype=float32, numpy=\n",
              " array([[[0., 0., 0., 0., 0.],\n",
              "         [0., 0., 0., 0., 0.],\n",
              "         [0., 0., 0., 0., 0.],\n",
              "         [0., 0., 0., 0., 0.]],\n",
              " \n",
              "        [[0., 0., 0., 0., 0.],\n",
              "         [0., 0., 0., 0., 0.],\n",
              "         [0., 0., 0., 0., 0.],\n",
              "         [0., 0., 0., 0., 0.]],\n",
              " \n",
              "        [[0., 0., 0., 0., 0.],\n",
              "         [0., 0., 0., 0., 0.],\n",
              "         [0., 0., 0., 0., 0.],\n",
              "         [0., 0., 0., 0., 0.]]], dtype=float32)>,\n",
              " TensorShape([2, 3, 4, 5]),\n",
              " <tf.Tensor: shape=(), dtype=int32, numpy=120>)"
            ]
          },
          "metadata": {},
          "execution_count": 96
        }
      ]
    },
    {
      "cell_type": "code",
      "source": [
        "print(\"Datatype of the tensor:\", rank_4_tensor.dtype)\n",
        "print(\"Number of dimentions in a tensor:\", rank_4_tensor.ndim)\n",
        "print(\"Shape of the tensor:\", rank_4_tensor.shape)\n",
        "print(\"Elements on the 0 axis:\", rank_4_tensor.shape[0])\n",
        "print(\"Elements ont the last axis:\", rank_4_tensor.shape[-1])\n",
        "print(\"Total number of tensors:\", tf.size(rank_4_tensor).numpy())"
      ],
      "metadata": {
        "colab": {
          "base_uri": "https://localhost:8080/"
        },
        "id": "tI1qnO2UJ3Kh",
        "outputId": "ed22cb08-8cb4-467b-87f9-9062022abb8f"
      },
      "execution_count": null,
      "outputs": [
        {
          "output_type": "stream",
          "name": "stdout",
          "text": [
            "Datatype of the tensor: <dtype: 'float32'>\n",
            "Number of dimentions in a tensor: 4\n",
            "Shape of the tensor: (2, 3, 4, 5)\n",
            "Elements on the 0 axis: 2\n",
            "Elements ont the last axis: 5\n",
            "Total number of tensors: 120\n"
          ]
        }
      ]
    },
    {
      "cell_type": "code",
      "source": [
        "# Tensors can be indexed like python list.\n",
        "\n",
        "rank_4_tensor[:1,:,:,:]"
      ],
      "metadata": {
        "colab": {
          "base_uri": "https://localhost:8080/"
        },
        "id": "BwPXnemJLT64",
        "outputId": "e001738f-e9f5-4c7f-f311-1de319d75f4c"
      },
      "execution_count": null,
      "outputs": [
        {
          "output_type": "execute_result",
          "data": {
            "text/plain": [
              "<tf.Tensor: shape=(1, 3, 4, 5), dtype=float32, numpy=\n",
              "array([[[[0., 0., 0., 0., 0.],\n",
              "         [0., 0., 0., 0., 0.],\n",
              "         [0., 0., 0., 0., 0.],\n",
              "         [0., 0., 0., 0., 0.]],\n",
              "\n",
              "        [[0., 0., 0., 0., 0.],\n",
              "         [0., 0., 0., 0., 0.],\n",
              "         [0., 0., 0., 0., 0.],\n",
              "         [0., 0., 0., 0., 0.]],\n",
              "\n",
              "        [[0., 0., 0., 0., 0.],\n",
              "         [0., 0., 0., 0., 0.],\n",
              "         [0., 0., 0., 0., 0.],\n",
              "         [0., 0., 0., 0., 0.]]]], dtype=float32)>"
            ]
          },
          "metadata": {},
          "execution_count": 98
        }
      ]
    },
    {
      "cell_type": "code",
      "source": [
        "# Create a random rank 2 tensor.\n",
        "\n",
        "rank_2_tensor = tf.random.Generator.from_seed(45)\n",
        "rank_2_tensor = rank_2_tensor.normal([2,2])\n",
        "rank_2_tensor"
      ],
      "metadata": {
        "colab": {
          "base_uri": "https://localhost:8080/"
        },
        "id": "hzLImezxxOpf",
        "outputId": "4b0fe07d-55b1-4f9a-80dd-5b8c883c60ff"
      },
      "execution_count": null,
      "outputs": [
        {
          "output_type": "execute_result",
          "data": {
            "text/plain": [
              "<tf.Tensor: shape=(2, 2), dtype=float32, numpy=\n",
              "array([[-0.3522796 ,  0.40621263],\n",
              "       [-1.0523509 ,  1.2054597 ]], dtype=float32)>"
            ]
          },
          "metadata": {},
          "execution_count": 99
        }
      ]
    },
    {
      "cell_type": "code",
      "source": [
        "rank_2_tensor[:,-1]"
      ],
      "metadata": {
        "colab": {
          "base_uri": "https://localhost:8080/"
        },
        "id": "X857UlRQz_EJ",
        "outputId": "749138bd-29f0-4038-ff66-359ce685cd8d"
      },
      "execution_count": null,
      "outputs": [
        {
          "output_type": "execute_result",
          "data": {
            "text/plain": [
              "<tf.Tensor: shape=(2,), dtype=float32, numpy=array([0.40621263, 1.2054597 ], dtype=float32)>"
            ]
          },
          "metadata": {},
          "execution_count": 100
        }
      ]
    },
    {
      "cell_type": "code",
      "source": [
        "rank_3_tensor = rank_2_tensor[..., tf.newaxis]\n",
        "rank_3_tensor"
      ],
      "metadata": {
        "colab": {
          "base_uri": "https://localhost:8080/"
        },
        "id": "IiWA9atZ1Aja",
        "outputId": "669554aa-fb99-4782-e76d-92ea5528ff4e"
      },
      "execution_count": null,
      "outputs": [
        {
          "output_type": "execute_result",
          "data": {
            "text/plain": [
              "<tf.Tensor: shape=(2, 2, 1), dtype=float32, numpy=\n",
              "array([[[-0.3522796 ],\n",
              "        [ 0.40621263]],\n",
              "\n",
              "       [[-1.0523509 ],\n",
              "        [ 1.2054597 ]]], dtype=float32)>"
            ]
          },
          "metadata": {},
          "execution_count": 101
        }
      ]
    },
    {
      "cell_type": "code",
      "source": [
        "tf.expand_dims(rank_2_tensor, axis=-1)"
      ],
      "metadata": {
        "colab": {
          "base_uri": "https://localhost:8080/"
        },
        "id": "Xm-cxZPL3Noi",
        "outputId": "b8e44624-839c-467e-d195-16878114786b"
      },
      "execution_count": null,
      "outputs": [
        {
          "output_type": "execute_result",
          "data": {
            "text/plain": [
              "<tf.Tensor: shape=(2, 2, 1), dtype=float32, numpy=\n",
              "array([[[-0.3522796 ],\n",
              "        [ 0.40621263]],\n",
              "\n",
              "       [[-1.0523509 ],\n",
              "        [ 1.2054597 ]]], dtype=float32)>"
            ]
          },
          "metadata": {},
          "execution_count": 102
        }
      ]
    },
    {
      "cell_type": "code",
      "source": [
        "tf.expand_dims(rank_2_tensor, axis=0)"
      ],
      "metadata": {
        "colab": {
          "base_uri": "https://localhost:8080/"
        },
        "id": "pwkKM2V8Byq3",
        "outputId": "29fcae79-4aa2-459f-c0df-cdebdcd7aa87"
      },
      "execution_count": null,
      "outputs": [
        {
          "output_type": "execute_result",
          "data": {
            "text/plain": [
              "<tf.Tensor: shape=(1, 2, 2), dtype=float32, numpy=\n",
              "array([[[-0.3522796 ,  0.40621263],\n",
              "        [-1.0523509 ,  1.2054597 ]]], dtype=float32)>"
            ]
          },
          "metadata": {},
          "execution_count": 103
        }
      ]
    },
    {
      "cell_type": "code",
      "source": [
        "# using basic operations on tensors +, -, *, /\n",
        "\n",
        "operation_tensor = tf.random.Generator.from_seed(69)\n",
        "operation_tensor = operation_tensor.normal([2,2])\n",
        "\n",
        "operation_tensor, operation_tensor + 1, operation_tensor - 1, operation_tensor * 10, operation_tensor / 2"
      ],
      "metadata": {
        "colab": {
          "base_uri": "https://localhost:8080/"
        },
        "id": "s5_Evbf7CZ2n",
        "outputId": "f7cefef0-7487-43c7-b8cd-648704a61584"
      },
      "execution_count": null,
      "outputs": [
        {
          "output_type": "execute_result",
          "data": {
            "text/plain": [
              "(<tf.Tensor: shape=(2, 2), dtype=float32, numpy=\n",
              " array([[ 0.29164317,  1.4531525 ],\n",
              "        [-0.8223833 , -1.3446563 ]], dtype=float32)>,\n",
              " <tf.Tensor: shape=(2, 2), dtype=float32, numpy=\n",
              " array([[ 1.2916431 ,  2.4531527 ],\n",
              "        [ 0.17761672, -0.34465635]], dtype=float32)>,\n",
              " <tf.Tensor: shape=(2, 2), dtype=float32, numpy=\n",
              " array([[-0.70835686,  0.45315254],\n",
              "        [-1.8223833 , -2.3446565 ]], dtype=float32)>,\n",
              " <tf.Tensor: shape=(2, 2), dtype=float32, numpy=\n",
              " array([[  2.9164317,  14.531526 ],\n",
              "        [ -8.223833 , -13.446564 ]], dtype=float32)>,\n",
              " <tf.Tensor: shape=(2, 2), dtype=float32, numpy=\n",
              " array([[ 0.14582159,  0.72657627],\n",
              "        [-0.41119164, -0.6723282 ]], dtype=float32)>)"
            ]
          },
          "metadata": {},
          "execution_count": 104
        }
      ]
    },
    {
      "cell_type": "code",
      "source": [
        "tf.multiply(operation_tensor, 10), tf.add(operation_tensor, 1), tf.subtract(operation_tensor, 1), tf.divide(operation_tensor, 2)"
      ],
      "metadata": {
        "colab": {
          "base_uri": "https://localhost:8080/"
        },
        "id": "dviOBKVyEcWO",
        "outputId": "a224e89e-b5b0-4bc9-92b8-f173d7d688f5"
      },
      "execution_count": null,
      "outputs": [
        {
          "output_type": "execute_result",
          "data": {
            "text/plain": [
              "(<tf.Tensor: shape=(2, 2), dtype=float32, numpy=\n",
              " array([[  2.9164317,  14.531526 ],\n",
              "        [ -8.223833 , -13.446564 ]], dtype=float32)>,\n",
              " <tf.Tensor: shape=(2, 2), dtype=float32, numpy=\n",
              " array([[ 1.2916431 ,  2.4531527 ],\n",
              "        [ 0.17761672, -0.34465635]], dtype=float32)>,\n",
              " <tf.Tensor: shape=(2, 2), dtype=float32, numpy=\n",
              " array([[-0.70835686,  0.45315254],\n",
              "        [-1.8223833 , -2.3446565 ]], dtype=float32)>,\n",
              " <tf.Tensor: shape=(2, 2), dtype=float32, numpy=\n",
              " array([[ 0.14582159,  0.72657627],\n",
              "        [-0.41119164, -0.6723282 ]], dtype=float32)>)"
            ]
          },
          "metadata": {},
          "execution_count": 105
        }
      ]
    },
    {
      "cell_type": "code",
      "source": [
        "# matrix multiplication in tensorflow\n",
        "tensor = tf.constant([[10,7],\n",
        "                      [3,4]])\n",
        "\n",
        "tf.matmul(tensor,tensor), tensor @ tensor"
      ],
      "metadata": {
        "colab": {
          "base_uri": "https://localhost:8080/"
        },
        "id": "oU16mZM3NFvk",
        "outputId": "fa565159-9ae5-4577-dcae-98e63240a7d9"
      },
      "execution_count": null,
      "outputs": [
        {
          "output_type": "execute_result",
          "data": {
            "text/plain": [
              "(<tf.Tensor: shape=(2, 2), dtype=int32, numpy=\n",
              " array([[121,  98],\n",
              "        [ 42,  37]], dtype=int32)>,\n",
              " <tf.Tensor: shape=(2, 2), dtype=int32, numpy=\n",
              " array([[121,  98],\n",
              "        [ 42,  37]], dtype=int32)>)"
            ]
          },
          "metadata": {},
          "execution_count": 106
        }
      ]
    },
    {
      "cell_type": "code",
      "source": [
        "# we need to perform matrix multiplication\n",
        "# inner dimentions need to match and the resulting matrix is the outer dimentions\n",
        "\n",
        "x = tf.constant([[1,2],\n",
        "                [3,4],\n",
        "                [5,6]])\n",
        "y = tf.constant([[7,8],\n",
        "                [9,10],\n",
        "                [11,12]])\n",
        "\n",
        "# tf.matmul(x, y) and x @ y, which are matrix multiplications would not work as it is 3x2 and 3x2. We want the inner dimentions to match.\n",
        "# we msut reshape x or y, here we reshape y to be 2x3. The multiplication will work 3x2 and 2x3\n",
        "\n",
        "tf.reshape(y, shape=(2,3))"
      ],
      "metadata": {
        "colab": {
          "base_uri": "https://localhost:8080/"
        },
        "id": "xws-H3VSi-D2",
        "outputId": "daa6e401-b0a6-4436-af4b-10f642528c02"
      },
      "execution_count": null,
      "outputs": [
        {
          "output_type": "execute_result",
          "data": {
            "text/plain": [
              "<tf.Tensor: shape=(2, 3), dtype=int32, numpy=\n",
              "array([[ 7,  8,  9],\n",
              "       [10, 11, 12]], dtype=int32)>"
            ]
          },
          "metadata": {},
          "execution_count": 107
        }
      ]
    },
    {
      "cell_type": "code",
      "source": [
        "# After the change now it will work\n",
        "tf.matmul(x, tf.reshape(y, shape=(2,3))), x @ tf.reshape(y, shape=(2,3))"
      ],
      "metadata": {
        "colab": {
          "base_uri": "https://localhost:8080/"
        },
        "id": "l1DSbY4o5A8h",
        "outputId": "e056b4c6-1793-4a91-a5f7-f30695f44c13"
      },
      "execution_count": null,
      "outputs": [
        {
          "output_type": "execute_result",
          "data": {
            "text/plain": [
              "(<tf.Tensor: shape=(3, 3), dtype=int32, numpy=\n",
              " array([[ 27,  30,  33],\n",
              "        [ 61,  68,  75],\n",
              "        [ 95, 106, 117]], dtype=int32)>,\n",
              " <tf.Tensor: shape=(3, 3), dtype=int32, numpy=\n",
              " array([[ 27,  30,  33],\n",
              "        [ 61,  68,  75],\n",
              "        [ 95, 106, 117]], dtype=int32)>)"
            ]
          },
          "metadata": {},
          "execution_count": 108
        }
      ]
    },
    {
      "cell_type": "code",
      "source": [
        "tf.reshape(x, shape=(2,3))"
      ],
      "metadata": {
        "colab": {
          "base_uri": "https://localhost:8080/"
        },
        "id": "4uBIu_im540i",
        "outputId": "81d3bd13-40df-4028-d2d9-c568e44263e1"
      },
      "execution_count": null,
      "outputs": [
        {
          "output_type": "execute_result",
          "data": {
            "text/plain": [
              "<tf.Tensor: shape=(2, 3), dtype=int32, numpy=\n",
              "array([[1, 2, 3],\n",
              "       [4, 5, 6]], dtype=int32)>"
            ]
          },
          "metadata": {},
          "execution_count": 109
        }
      ]
    },
    {
      "cell_type": "code",
      "source": [
        "# When we change x instead of y, the product of matrix multiplication will change\n",
        "tf.matmul(tf.reshape(x, shape=(2,3)), y), tf.reshape(x, shape=(2,3)) @ y"
      ],
      "metadata": {
        "colab": {
          "base_uri": "https://localhost:8080/"
        },
        "id": "FvBpfXmhjosl",
        "outputId": "34e7fb49-8ef1-4884-f223-2f3b889a75ea"
      },
      "execution_count": null,
      "outputs": [
        {
          "output_type": "execute_result",
          "data": {
            "text/plain": [
              "(<tf.Tensor: shape=(2, 2), dtype=int32, numpy=\n",
              " array([[ 58,  64],\n",
              "        [139, 154]], dtype=int32)>,\n",
              " <tf.Tensor: shape=(2, 2), dtype=int32, numpy=\n",
              " array([[ 58,  64],\n",
              "        [139, 154]], dtype=int32)>)"
            ]
          },
          "metadata": {},
          "execution_count": 110
        }
      ]
    },
    {
      "cell_type": "code",
      "source": [
        "# tf.reshape and tf.transpose are two different opperations we can perform a matrix\n",
        "reshape_tensor = tf.reshape(x, shape=(2,3))\n",
        "\n",
        "transpose_tensor = tf.transpose(x)\n",
        "\n",
        "x, reshape_tensor, transpose_tensor"
      ],
      "metadata": {
        "colab": {
          "base_uri": "https://localhost:8080/"
        },
        "id": "O2rF0eu-kvNd",
        "outputId": "736f050c-350f-4bc0-e146-59fa7c356300"
      },
      "execution_count": null,
      "outputs": [
        {
          "output_type": "execute_result",
          "data": {
            "text/plain": [
              "(<tf.Tensor: shape=(3, 2), dtype=int32, numpy=\n",
              " array([[1, 2],\n",
              "        [3, 4],\n",
              "        [5, 6]], dtype=int32)>,\n",
              " <tf.Tensor: shape=(2, 3), dtype=int32, numpy=\n",
              " array([[1, 2, 3],\n",
              "        [4, 5, 6]], dtype=int32)>,\n",
              " <tf.Tensor: shape=(2, 3), dtype=int32, numpy=\n",
              " array([[1, 3, 5],\n",
              "        [2, 4, 6]], dtype=int32)>)"
            ]
          },
          "metadata": {},
          "execution_count": 111
        }
      ]
    },
    {
      "cell_type": "code",
      "source": [
        "# We can perform matrix multiplication with transpose\n",
        "tf.matmul(tf.transpose(x), y)"
      ],
      "metadata": {
        "colab": {
          "base_uri": "https://localhost:8080/"
        },
        "id": "Qpf7L8PTlXiq",
        "outputId": "3ed96a5d-baeb-4eab-996a-7c9a82a5ff25"
      },
      "execution_count": null,
      "outputs": [
        {
          "output_type": "execute_result",
          "data": {
            "text/plain": [
              "<tf.Tensor: shape=(2, 2), dtype=int32, numpy=\n",
              "array([[ 89,  98],\n",
              "       [116, 128]], dtype=int32)>"
            ]
          },
          "metadata": {},
          "execution_count": 112
        }
      ]
    },
    {
      "cell_type": "code",
      "source": [
        "# reduced precision the default value is int32 and float32, we can also use int16 and float16 which would use less memory.\n",
        "a = tf.constant([[1,2],\n",
        "                 [3,4]])\n",
        "b = tf.constant([[5.1,6.2],\n",
        "                 [7.3,8.4]])\n",
        "a.dtype, b.dtype"
      ],
      "metadata": {
        "colab": {
          "base_uri": "https://localhost:8080/"
        },
        "id": "usJSKJhVmT4b",
        "outputId": "8e84dd90-7797-4a31-b984-60deac4ded7a"
      },
      "execution_count": null,
      "outputs": [
        {
          "output_type": "execute_result",
          "data": {
            "text/plain": [
              "(tf.int32, tf.float32)"
            ]
          },
          "metadata": {},
          "execution_count": 113
        }
      ]
    },
    {
      "cell_type": "code",
      "source": [
        "c = tf.cast(a, dtype=tf.int16)\n",
        "d = tf.cast(b, dtype=tf.float16)\n",
        "\n",
        "c.dtype, d.dtype"
      ],
      "metadata": {
        "colab": {
          "base_uri": "https://localhost:8080/"
        },
        "id": "7Vw4ckwQ0Cu-",
        "outputId": "0f106cf0-65f6-4370-99d9-c3430ff5232a"
      },
      "execution_count": null,
      "outputs": [
        {
          "output_type": "execute_result",
          "data": {
            "text/plain": [
              "(tf.int16, tf.float16)"
            ]
          },
          "metadata": {},
          "execution_count": 114
        }
      ]
    },
    {
      "cell_type": "code",
      "source": [
        "# Aggregating a tensor: condensing them from multiple amount of values to smaller values\n",
        "\n",
        "# Turn all the negitive numbers into positive numbers\n",
        "\n",
        "negative_tensor = tf.constant([[-1,-2],\n",
        "                               [-3, -4]])\n",
        "\n",
        "absolute_tensor = tf.abs(negative_tensor)\n",
        "\n",
        "negative_tensor, absolute_tensor"
      ],
      "metadata": {
        "colab": {
          "base_uri": "https://localhost:8080/"
        },
        "id": "o0zz01rJ1aa5",
        "outputId": "dead896b-6f1c-47cf-967d-21b749048681"
      },
      "execution_count": null,
      "outputs": [
        {
          "output_type": "execute_result",
          "data": {
            "text/plain": [
              "(<tf.Tensor: shape=(2, 2), dtype=int32, numpy=\n",
              " array([[-1, -2],\n",
              "        [-3, -4]], dtype=int32)>,\n",
              " <tf.Tensor: shape=(2, 2), dtype=int32, numpy=\n",
              " array([[1, 2],\n",
              "        [3, 4]], dtype=int32)>)"
            ]
          },
          "metadata": {},
          "execution_count": 115
        }
      ]
    },
    {
      "cell_type": "code",
      "source": [
        "# find the min, max, mean and sum of a tensor\n",
        "\n",
        "random_tensor = tf.random.Generator.from_seed(420)\n",
        "random_tensor_float = random_tensor.normal([2,2])\n",
        "random_tensor_int = tf.cast(random_tensor_float, dtype = tf.int32)\n",
        "\n",
        "random_tensor_min = tf.reduce_min(random_tensor_int)\n",
        "random_tensor_max = tf.reduce_max(random_tensor_int)\n",
        "random_tensor_mean = tf.reduce_mean(random_tensor_int)\n",
        "random_tensor_sum = tf.reduce_sum(random_tensor_int)\n",
        "random_tensor_variance = tf.math.reduce_variance(random_tensor_float)\n",
        "random_tensor_standard_deviation = tf.math.reduce_std(random_tensor_float)\n",
        "\n",
        "random_tensor_float, random_tensor_int, random_tensor_min, random_tensor_max, random_tensor_mean, random_tensor_sum, random_tensor_variance, random_tensor_standard_deviation"
      ],
      "metadata": {
        "colab": {
          "base_uri": "https://localhost:8080/"
        },
        "id": "GYwaONN16ErL",
        "outputId": "1fab72ef-5850-4df5-d5b5-ae253b6b6162"
      },
      "execution_count": null,
      "outputs": [
        {
          "output_type": "execute_result",
          "data": {
            "text/plain": [
              "(<tf.Tensor: shape=(2, 2), dtype=float32, numpy=\n",
              " array([[ 0.6356361 , -0.08795371],\n",
              "        [-1.3398387 , -0.00641572]], dtype=float32)>,\n",
              " <tf.Tensor: shape=(2, 2), dtype=int32, numpy=\n",
              " array([[ 0,  0],\n",
              "        [-1,  0]], dtype=int32)>,\n",
              " <tf.Tensor: shape=(), dtype=int32, numpy=-1>,\n",
              " <tf.Tensor: shape=(), dtype=int32, numpy=0>,\n",
              " <tf.Tensor: shape=(), dtype=int32, numpy=0>,\n",
              " <tf.Tensor: shape=(), dtype=int32, numpy=-1>,\n",
              " <tf.Tensor: shape=(), dtype=float32, numpy=0.5118872>,\n",
              " <tf.Tensor: shape=(), dtype=float32, numpy=0.7154629>)"
            ]
          },
          "metadata": {},
          "execution_count": 116
        }
      ]
    },
    {
      "cell_type": "code",
      "source": [
        "# Finding the positional maximum and minimum\n",
        "tf.random.set_seed(42)\n",
        "positional_tensor = tf.random.uniform([50])\n",
        "\n",
        "positional_tensor, tf.argmax(positional_tensor), positional_tensor[tf.argmax(positional_tensor)], tf.reduce_max(positional_tensor)"
      ],
      "metadata": {
        "colab": {
          "base_uri": "https://localhost:8080/"
        },
        "id": "xLPtCqK5AiHN",
        "outputId": "b809c47f-72f5-46f4-fe4b-a721d7bd2d0b"
      },
      "execution_count": null,
      "outputs": [
        {
          "output_type": "execute_result",
          "data": {
            "text/plain": [
              "(<tf.Tensor: shape=(50,), dtype=float32, numpy=\n",
              " array([0.6645621 , 0.44100678, 0.3528825 , 0.46448255, 0.03366041,\n",
              "        0.68467236, 0.74011743, 0.8724445 , 0.22632635, 0.22319686,\n",
              "        0.3103881 , 0.7223358 , 0.13318717, 0.5480639 , 0.5746088 ,\n",
              "        0.8996835 , 0.00946367, 0.5212307 , 0.6345445 , 0.1993283 ,\n",
              "        0.72942245, 0.54583454, 0.10756552, 0.6767061 , 0.6602763 ,\n",
              "        0.33695042, 0.60141766, 0.21062577, 0.8527372 , 0.44062173,\n",
              "        0.9485276 , 0.23752594, 0.81179297, 0.5263394 , 0.494308  ,\n",
              "        0.21612847, 0.8457197 , 0.8718841 , 0.3083862 , 0.6868038 ,\n",
              "        0.23764038, 0.7817228 , 0.9671384 , 0.06870162, 0.79873943,\n",
              "        0.66028714, 0.5871513 , 0.16461694, 0.7381023 , 0.32054043],\n",
              "       dtype=float32)>,\n",
              " <tf.Tensor: shape=(), dtype=int64, numpy=42>,\n",
              " <tf.Tensor: shape=(), dtype=float32, numpy=0.9671384>,\n",
              " <tf.Tensor: shape=(), dtype=float32, numpy=0.9671384>)"
            ]
          },
          "metadata": {},
          "execution_count": 117
        }
      ]
    },
    {
      "cell_type": "code",
      "source": [
        "tf.argmin(positional_tensor), positional_tensor[tf.argmin(positional_tensor)], tf.reduce_min(positional_tensor)"
      ],
      "metadata": {
        "colab": {
          "base_uri": "https://localhost:8080/"
        },
        "id": "ATDlJ91ocEX3",
        "outputId": "9ce490f6-17b3-434e-8800-4087a40840c3"
      },
      "execution_count": null,
      "outputs": [
        {
          "output_type": "execute_result",
          "data": {
            "text/plain": [
              "(<tf.Tensor: shape=(), dtype=int64, numpy=16>,\n",
              " <tf.Tensor: shape=(), dtype=float32, numpy=0.009463668>,\n",
              " <tf.Tensor: shape=(), dtype=float32, numpy=0.009463668>)"
            ]
          },
          "metadata": {},
          "execution_count": 118
        }
      ]
    },
    {
      "cell_type": "code",
      "source": [
        "# squeezing a tensor\n",
        "\n",
        "tf.random.set_seed(42)\n",
        "unsqueezed_tensor = tf.constant(tf.random.uniform(shape = [50]), shape = (1,1,1,50))\n",
        "\n",
        "squeezed_tensor = tf.squeeze(unsqueezed_tensor)\n",
        "unsqueezed_tensor, unsqueezed_tensor.shape, squeezed_tensor, squeezed_tensor.shape"
      ],
      "metadata": {
        "colab": {
          "base_uri": "https://localhost:8080/"
        },
        "id": "amWZeol5eceD",
        "outputId": "a95826b7-7f38-4325-8c09-8ad2ed4fba10"
      },
      "execution_count": null,
      "outputs": [
        {
          "output_type": "execute_result",
          "data": {
            "text/plain": [
              "(<tf.Tensor: shape=(1, 1, 1, 50), dtype=float32, numpy=\n",
              " array([[[[0.6645621 , 0.44100678, 0.3528825 , 0.46448255, 0.03366041,\n",
              "           0.68467236, 0.74011743, 0.8724445 , 0.22632635, 0.22319686,\n",
              "           0.3103881 , 0.7223358 , 0.13318717, 0.5480639 , 0.5746088 ,\n",
              "           0.8996835 , 0.00946367, 0.5212307 , 0.6345445 , 0.1993283 ,\n",
              "           0.72942245, 0.54583454, 0.10756552, 0.6767061 , 0.6602763 ,\n",
              "           0.33695042, 0.60141766, 0.21062577, 0.8527372 , 0.44062173,\n",
              "           0.9485276 , 0.23752594, 0.81179297, 0.5263394 , 0.494308  ,\n",
              "           0.21612847, 0.8457197 , 0.8718841 , 0.3083862 , 0.6868038 ,\n",
              "           0.23764038, 0.7817228 , 0.9671384 , 0.06870162, 0.79873943,\n",
              "           0.66028714, 0.5871513 , 0.16461694, 0.7381023 , 0.32054043]]]],\n",
              "       dtype=float32)>,\n",
              " TensorShape([1, 1, 1, 50]),\n",
              " <tf.Tensor: shape=(50,), dtype=float32, numpy=\n",
              " array([0.6645621 , 0.44100678, 0.3528825 , 0.46448255, 0.03366041,\n",
              "        0.68467236, 0.74011743, 0.8724445 , 0.22632635, 0.22319686,\n",
              "        0.3103881 , 0.7223358 , 0.13318717, 0.5480639 , 0.5746088 ,\n",
              "        0.8996835 , 0.00946367, 0.5212307 , 0.6345445 , 0.1993283 ,\n",
              "        0.72942245, 0.54583454, 0.10756552, 0.6767061 , 0.6602763 ,\n",
              "        0.33695042, 0.60141766, 0.21062577, 0.8527372 , 0.44062173,\n",
              "        0.9485276 , 0.23752594, 0.81179297, 0.5263394 , 0.494308  ,\n",
              "        0.21612847, 0.8457197 , 0.8718841 , 0.3083862 , 0.6868038 ,\n",
              "        0.23764038, 0.7817228 , 0.9671384 , 0.06870162, 0.79873943,\n",
              "        0.66028714, 0.5871513 , 0.16461694, 0.7381023 , 0.32054043],\n",
              "       dtype=float32)>,\n",
              " TensorShape([50]))"
            ]
          },
          "metadata": {},
          "execution_count": 119
        }
      ]
    },
    {
      "cell_type": "code",
      "source": [
        "# One hot encoding: convert any list into a tensor of one and zero. This helps the neural network understand better when we use label. Eg Red, Green, Blue etc\n",
        "# the number if elements in the list is the number of lists in the encoding, the depth is the number of elements in each list\n",
        "some_list = [10,25]\n",
        "\n",
        "tf.one_hot(some_list, depth=50)"
      ],
      "metadata": {
        "colab": {
          "base_uri": "https://localhost:8080/"
        },
        "id": "gWgRfL45TP5T",
        "outputId": "d88104e3-52c1-4a51-e811-5797be9a34dc"
      },
      "execution_count": null,
      "outputs": [
        {
          "output_type": "execute_result",
          "data": {
            "text/plain": [
              "<tf.Tensor: shape=(2, 50), dtype=float32, numpy=\n",
              "array([[0., 0., 0., 0., 0., 0., 0., 0., 0., 0., 1., 0., 0., 0., 0., 0.,\n",
              "        0., 0., 0., 0., 0., 0., 0., 0., 0., 0., 0., 0., 0., 0., 0., 0.,\n",
              "        0., 0., 0., 0., 0., 0., 0., 0., 0., 0., 0., 0., 0., 0., 0., 0.,\n",
              "        0., 0.],\n",
              "       [0., 0., 0., 0., 0., 0., 0., 0., 0., 0., 0., 0., 0., 0., 0., 0.,\n",
              "        0., 0., 0., 0., 0., 0., 0., 0., 0., 1., 0., 0., 0., 0., 0., 0.,\n",
              "        0., 0., 0., 0., 0., 0., 0., 0., 0., 0., 0., 0., 0., 0., 0., 0.,\n",
              "        0., 0.]], dtype=float32)>"
            ]
          },
          "metadata": {},
          "execution_count": 120
        }
      ]
    },
    {
      "cell_type": "code",
      "source": [
        "# we can specify differnt values for one hot encoding.\n",
        "\n",
        "tf.one_hot(some_list, depth=50, on_value='yes', off_value='no')"
      ],
      "metadata": {
        "colab": {
          "base_uri": "https://localhost:8080/"
        },
        "id": "hMmLUmvClhlm",
        "outputId": "3c9224a3-de7e-4ea1-d789-8cfd12a7a92c"
      },
      "execution_count": null,
      "outputs": [
        {
          "output_type": "execute_result",
          "data": {
            "text/plain": [
              "<tf.Tensor: shape=(2, 50), dtype=string, numpy=\n",
              "array([[b'no', b'no', b'no', b'no', b'no', b'no', b'no', b'no', b'no',\n",
              "        b'no', b'yes', b'no', b'no', b'no', b'no', b'no', b'no', b'no',\n",
              "        b'no', b'no', b'no', b'no', b'no', b'no', b'no', b'no', b'no',\n",
              "        b'no', b'no', b'no', b'no', b'no', b'no', b'no', b'no', b'no',\n",
              "        b'no', b'no', b'no', b'no', b'no', b'no', b'no', b'no', b'no',\n",
              "        b'no', b'no', b'no', b'no', b'no'],\n",
              "       [b'no', b'no', b'no', b'no', b'no', b'no', b'no', b'no', b'no',\n",
              "        b'no', b'no', b'no', b'no', b'no', b'no', b'no', b'no', b'no',\n",
              "        b'no', b'no', b'no', b'no', b'no', b'no', b'no', b'yes', b'no',\n",
              "        b'no', b'no', b'no', b'no', b'no', b'no', b'no', b'no', b'no',\n",
              "        b'no', b'no', b'no', b'no', b'no', b'no', b'no', b'no', b'no',\n",
              "        b'no', b'no', b'no', b'no', b'no']], dtype=object)>"
            ]
          },
          "metadata": {},
          "execution_count": 121
        }
      ]
    },
    {
      "cell_type": "code",
      "source": [
        "# Find the square, square root and log of a tensor\n",
        "more_tensor = tf.range(1,10)\n",
        "more_tensor, tf.square(more_tensor), tf.math.sqrt(tf.cast(more_tensor, dtype=tf.float32)), tf.math.log(tf.cast(more_tensor, dtype=tf.float32))"
      ],
      "metadata": {
        "colab": {
          "base_uri": "https://localhost:8080/"
        },
        "id": "GdcmuR0lI7_5",
        "outputId": "7c1d2fe4-db26-40a1-8ab4-9a99da42ecfe"
      },
      "execution_count": null,
      "outputs": [
        {
          "output_type": "execute_result",
          "data": {
            "text/plain": [
              "(<tf.Tensor: shape=(9,), dtype=int32, numpy=array([1, 2, 3, 4, 5, 6, 7, 8, 9], dtype=int32)>,\n",
              " <tf.Tensor: shape=(9,), dtype=int32, numpy=array([ 1,  4,  9, 16, 25, 36, 49, 64, 81], dtype=int32)>,\n",
              " <tf.Tensor: shape=(9,), dtype=float32, numpy=\n",
              " array([1.       , 1.4142135, 1.7320508, 2.       , 2.236068 , 2.4494898,\n",
              "        2.6457512, 2.828427 , 3.       ], dtype=float32)>,\n",
              " <tf.Tensor: shape=(9,), dtype=float32, numpy=\n",
              " array([0.       , 0.6931472, 1.0986123, 1.3862944, 1.609438 , 1.7917595,\n",
              "        1.9459102, 2.0794415, 2.1972246], dtype=float32)>)"
            ]
          },
          "metadata": {},
          "execution_count": 122
        }
      ]
    },
    {
      "cell_type": "code",
      "source": [
        "# Numpy to array, we can access any element if we convert the tensor into a numpy array with indexing\n",
        "array = np.array([1., 2., 3.])\n",
        "A = tf.constant([3.])\n",
        "type(array), A, A.numpy(), type(A), A.numpy()[0]"
      ],
      "metadata": {
        "colab": {
          "base_uri": "https://localhost:8080/"
        },
        "id": "atg5NSVPK3Iq",
        "outputId": "70f9c373-2c48-49bd-fe03-b66988058bf3"
      },
      "execution_count": null,
      "outputs": [
        {
          "output_type": "execute_result",
          "data": {
            "text/plain": [
              "(numpy.ndarray,\n",
              " <tf.Tensor: shape=(1,), dtype=float32, numpy=array([3.], dtype=float32)>,\n",
              " array([3.], dtype=float32),\n",
              " tensorflow.python.framework.ops.EagerTensor,\n",
              " 3.0)"
            ]
          },
          "metadata": {},
          "execution_count": 123
        }
      ]
    },
    {
      "cell_type": "code",
      "source": [
        "numpy_A = np.array([3., 4., 5.])\n",
        "tensor_A = tf.constant([3., 4., 5.])\n",
        "\n",
        "numpy_A.dtype, tensor_A.dtype"
      ],
      "metadata": {
        "colab": {
          "base_uri": "https://localhost:8080/"
        },
        "id": "1kx4d3tAMlL6",
        "outputId": "6f09a6d5-8fef-4bcb-8a62-462917835e82"
      },
      "execution_count": null,
      "outputs": [
        {
          "output_type": "execute_result",
          "data": {
            "text/plain": [
              "(dtype('float64'), tf.float32)"
            ]
          },
          "metadata": {},
          "execution_count": 124
        }
      ]
    }
  ]
}